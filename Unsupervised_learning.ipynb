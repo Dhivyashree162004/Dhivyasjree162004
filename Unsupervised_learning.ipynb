{
  "nbformat": 4,
  "nbformat_minor": 0,
  "metadata": {
    "colab": {
      "provenance": [],
      "authorship_tag": "ABX9TyO05CasWt05dzynmuCawGLQ",
      "include_colab_link": true
    },
    "kernelspec": {
      "name": "python3",
      "display_name": "Python 3"
    },
    "language_info": {
      "name": "python"
    }
  },
  "cells": [
    {
      "cell_type": "markdown",
      "metadata": {
        "id": "view-in-github",
        "colab_type": "text"
      },
      "source": [
        "<a href=\"https://colab.research.google.com/github/Dhivyashree162004/Dhivyasjree162004/blob/main/Unsupervised_learning.ipynb\" target=\"_parent\"><img src=\"https://colab.research.google.com/assets/colab-badge.svg\" alt=\"Open In Colab\"/></a>"
      ]
    },
    {
      "cell_type": "code",
      "execution_count": 3,
      "metadata": {
        "colab": {
          "base_uri": "https://localhost:8080/",
          "height": 141
        },
        "id": "EPM_qf0CGQyc",
        "outputId": "6bdf833c-d06e-4790-b134-15f00315e065"
      },
      "outputs": [
        {
          "output_type": "error",
          "ename": "SyntaxError",
          "evalue": "invalid syntax (<ipython-input-3-07172330b5d2>, line 41)",
          "traceback": [
            "\u001b[0;36m  File \u001b[0;32m\"<ipython-input-3-07172330b5d2>\"\u001b[0;36m, line \u001b[0;32m41\u001b[0m\n\u001b[0;31m    Enter a score to predict (e.g., 85): 70\u001b[0m\n\u001b[0m          ^\u001b[0m\n\u001b[0;31mSyntaxError\u001b[0m\u001b[0;31m:\u001b[0m invalid syntax\n"
          ]
        }
      ],
      "source": [
        "\n",
        "#KMeans Clustering with Score Input and High/Low Output\n",
        "\n",
        "import numpy as np\n",
        "import matplotlib.pyplot as plt\n",
        "from sklearn.cluster import KMeans\n",
        "\n",
        "# Step 1: Training Data (Unlabeled)\n",
        "scores = np.array([[35], [40], [42], [90], [95], [98]])\n",
        "\n",
        "# Step 2: Train KMeans\n",
        "kmeans = KMeans(n_clusters=2, random_state=0)\n",
        "kmeans.fit(scores)\n",
        "\n",
        "# Step 3: Predict cluster for a new score\n",
        "new_score = float(input(\"Enter a score to predict (e.g., 85): \"))\n",
        "prediction = kmeans.predict([[new_score]])[0]\n",
        "\n",
        "# Step 4: Label the clusters manually\n",
        "# Find which cluster center is higher\n",
        "centers = kmeans.cluster_centers_.flatten()\n",
        "high_cluster = np.argmax(centers)\n",
        "low_cluster = 1 - high_cluster\n",
        "\n",
        "# Step 5: Output the result\n",
        "if prediction == high_cluster:\n",
        "    print(f\"Score {new_score} is classified as: HIGH\")\n",
        "else:\n",
        "    print(f\"Score {new_score} is classified as: LOW\")\n",
        "\n",
        "# Optional: Plot existing clusters + the new point\n",
        "labels = kmeans.labels_\n",
        "plt.scatter(scores, [0]*len(scores), c=labels, cmap='coolwarm', s=100, label='Training Scores')\n",
        "plt.scatter([[new_score]], [0], color='green', s=200, marker='x', label='Input Score')\n",
        "plt.xlabel(\"Exam Score\")\n",
        "plt.yticks([])\n",
        "plt.title(\"Clustering Exam Scores with Prediction\")\n",
        "plt.legend()\n",
        "plt.grid(True)\n",
        "plt.show()\n",
        "\n",
        "Enter a score to predict (e.g., 85): 70\n",
        "Score 70.0 is classified as: HIGH"
      ]
    }
  ]
}