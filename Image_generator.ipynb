!pip install openai==0.28
import openai
import IPython.display as display

# Set your OpenAI API key (Replace with your API key)
openai.api_key = "your_openai_api_key"

def generate_image():
    # Get a single-word input from the user
    word = input("Enter a single word for image generation: ").strip()

    # Convert the word into a more descriptive prompt
    prompt = f"A highly detailed and realistic image of {word}. Vibrant colors, professional photography style."

    # Generate an image using DALL·E
    response = openai.Image.create(
        prompt=prompt,
        n=1,  # Number of images
        size="1024x1024"  # Image resolution
    )

    # Get the image URL
    image_url = response['data'][0]['url']

    # Display the generated image
    display.display(display.Image(url=image_url))
    print(f"Generated Image URL: {image_url}")

# Run the function
generate_image()
     
