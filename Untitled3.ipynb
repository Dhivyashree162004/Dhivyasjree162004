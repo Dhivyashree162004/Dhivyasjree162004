{
  "nbformat": 4,
  "nbformat_minor": 0,
  "metadata": {
    "colab": {
      "provenance": [],
      "authorship_tag": "ABX9TyPYo/lsbuGr2Adtrig8g5e4",
      "include_colab_link": true
    },
    "kernelspec": {
      "name": "python3",
      "display_name": "Python 3"
    },
    "language_info": {
      "name": "python"
    }
  },
  "cells": [
    {
      "cell_type": "markdown",
      "metadata": {
        "id": "view-in-github",
        "colab_type": "text"
      },
      "source": [
        "<a href=\"https://colab.research.google.com/github/Dhivyashree162004/Dhivyasjree162004/blob/main/Untitled3.ipynb\" target=\"_parent\"><img src=\"https://colab.research.google.com/assets/colab-badge.svg\" alt=\"Open In Colab\"/></a>"
      ]
    },
    {
      "cell_type": "code",
      "execution_count": null,
      "metadata": {
        "colab": {
          "base_uri": "https://localhost:8080/",
          "height": 680
        },
        "id": "UjOXf2kReH7Z",
        "outputId": "79c9d29a-b70e-472b-df97-6dbaa99ea60b"
      },
      "outputs": [
        {
          "output_type": "stream",
          "name": "stdout",
          "text": [
            "25-04-01 08:29:50 - Directory /root/.deepface has been created\n",
            "25-04-01 08:29:50 - Directory /root/.deepface/weights has been created\n",
            "Running Gradio in a Colab notebook requires sharing enabled. Automatically setting `share=True` (you can turn this off by setting `share=False` in `launch()` explicitly).\n",
            "\n",
            "Colab notebook detected. To show errors in colab notebook, set debug=True in launch()\n",
            "* Running on public URL: https://b9cf50fbc6ac48214e.gradio.live\n",
            "\n",
            "This share link expires in 72 hours. For free permanent hosting and GPU upgrades, run `gradio deploy` from the terminal in the working directory to deploy to Hugging Face Spaces (https://huggingface.co/spaces)\n"
          ]
        },
        {
          "output_type": "display_data",
          "data": {
            "text/plain": [
              "<IPython.core.display.HTML object>"
            ],
            "text/html": [
              "<div><iframe src=\"https://b9cf50fbc6ac48214e.gradio.live\" width=\"100%\" height=\"500\" allow=\"autoplay; camera; microphone; clipboard-read; clipboard-write;\" frameborder=\"0\" allowfullscreen></iframe></div>"
            ]
          },
          "metadata": {}
        },
        {
          "output_type": "execute_result",
          "data": {
            "text/plain": []
          },
          "metadata": {},
          "execution_count": 1
        }
      ],
      "source": [
        "\n",
        "import sys\n",
        "import subprocess\n",
        "\n",
        "# Ensure required packages are installed\n",
        "def install_package(package):\n",
        "    subprocess.check_call([sys.executable, \"-m\", \"pip\", \"install\", package])\n",
        "\n",
        "try:\n",
        "    import gradio as gr\n",
        "except ModuleNotFoundError:\n",
        "    install_package(\"gradio\")\n",
        "    import gradio as gr\n",
        "\n",
        "try:\n",
        "    from deepface import DeepFace\n",
        "except ModuleNotFoundError:\n",
        "    install_package(\"deepface\")\n",
        "    from deepface import DeepFace\n",
        "\n",
        "try:\n",
        "    from PIL import Image\n",
        "except ModuleNotFoundError:\n",
        "    install_package(\"pillow\")\n",
        "    from PIL import Image\n",
        "\n",
        "import numpy as np\n",
        "\n",
        "def analyze_emotion(image):\n",
        "    image = Image.fromarray(image)\n",
        "    image.save(\"temp.jpg\")  # Save image temporarily for analysis\n",
        "\n",
        "    try:\n",
        "        result = DeepFace.analyze(\"temp.jpg\", actions=['emotion'])\n",
        "        top_emotion = result[0]['dominant_emotion']\n",
        "    except Exception as e:\n",
        "        top_emotion = f\"Error: {str(e)}\"\n",
        "\n",
        "    return top_emotion\n",
        "\n",
        "# Create Gradio interface\n",
        "demo = gr.Interface(\n",
        "    fn=analyze_emotion,\n",
        "    inputs=gr.Image(type=\"numpy\", label=\"Upload an Image\"),\n",
        "    outputs=gr.Textbox(label=\"Detected Emotion\"),\n",
        "    title=\"Image-Based Emotion Detection\",\n",
        "    description=\"Upload an image to detect the emotion of the person in it.\"\n",
        ")\n",
        "\n",
        "demo.launch()"
      ]
    }
  ]
}