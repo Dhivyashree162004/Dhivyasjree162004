{
  "nbformat": 4,
  "nbformat_minor": 0,
  "metadata": {
    "colab": {
      "provenance": [],
      "authorship_tag": "ABX9TyN9Y/S8hACSdzQ1ov2AlPgG",
      "include_colab_link": true
    },
    "kernelspec": {
      "name": "python3",
      "display_name": "Python 3"
    },
    "language_info": {
      "name": "python"
    }
  },
  "cells": [
    {
      "cell_type": "markdown",
      "metadata": {
        "id": "view-in-github",
        "colab_type": "text"
      },
      "source": [
        "<a href=\"https://colab.research.google.com/github/Dhivyashree162004/Dhivyasjree162004/blob/main/Untitled18.ipynb\" target=\"_parent\"><img src=\"https://colab.research.google.com/assets/colab-badge.svg\" alt=\"Open In Colab\"/></a>"
      ]
    },
    {
      "cell_type": "code",
      "execution_count": null,
      "metadata": {
        "id": "dFh6mGy2O2eX"
      },
      "outputs": [],
      "source": [
        "from openai import OpenAI\n",
        "\n",
        "client = OpenAI(\n",
        "    base_url=\"https://openrouter.ai/api/v1\",\n",
        "    api_key=\"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\",  # Replace with your actual key\n",
        ")\n",
        "msg=input(\"user\")\n",
        "try:\n",
        "    completion = client.chat.completions.create(\n",
        "        model=\"deepseek/deepseek-r1:free\",\n",
        "        messages=[{\"role\": \"user\", \"content\": msg}]\n",
        "    )\n",
        "\n",
        "    # Print full response to debug\n",
        "    #print(completion)\n",
        "\n",
        "    # Extract and print response\n",
        "    print(completion.choices[0].message.content)\n",
        "\n",
        "except Exception as e:\n",
        "    print(f\"Error: {e}\")"
      ]
    }
  ]
}