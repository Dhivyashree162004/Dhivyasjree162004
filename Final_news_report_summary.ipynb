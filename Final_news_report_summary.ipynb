{
  "nbformat": 4,
  "nbformat_minor": 0,
  "metadata": {
    "colab": {
      "provenance": [],
      "authorship_tag": "ABX9TyN2neIKPXCZ0hxX5v3OT1Q3",
      "include_colab_link": true
    },
    "kernelspec": {
      "name": "python3",
      "display_name": "Python 3"
    },
    "language_info": {
      "name": "python"
    }
  },
  "cells": [
    {
      "cell_type": "markdown",
      "metadata": {
        "id": "view-in-github",
        "colab_type": "text"
      },
      "source": [
        "<a href=\"https://colab.research.google.com/github/Dhivyashree162004/Dhivyasjree162004/blob/main/Final_news_report_summary.ipynb\" target=\"_parent\"><img src=\"https://colab.research.google.com/assets/colab-badge.svg\" alt=\"Open In Colab\"/></a>"
      ]
    },
    {
      "cell_type": "code",
      "execution_count": 1,
      "metadata": {
        "colab": {
          "base_uri": "https://localhost:8080/"
        },
        "id": "WVtR3NituxTZ",
        "outputId": "060a03ed-b922-4c07-f5ed-f3e65e128112"
      },
      "outputs": [
        {
          "output_type": "stream",
          "name": "stdout",
          "text": [
            "Summary:\n",
            "\n",
            "The government announced new policies to tackle the rising inflation rates that have affected the economy over the past year.\n",
            "The finance minister outlined a series of measures including tax cuts for small businesses, subsidies for essential goods, and\n",
            "a focus on boosting local manufacturing. Experts believe these moves could help stabilize prices but warn of possible budget deficits.\n",
            "Meanwhile, the stock market responded positively with major indices gaining ground after the announcement.\n",
            "\n"
          ]
        }
      ],
      "source": [
        "\n",
        "def summarize(text, num_sentences=3):\n",
        "    # Break the text into sentences manually\n",
        "    sentences = text.split('. ')\n",
        "\n",
        "    # Create a list of words from text\n",
        "    words = text.lower().replace('.', '').replace(',', '').replace('\\n', '').split()\n",
        "\n",
        "    # Calculate frequency of each word\n",
        "    word_freq = {}\n",
        "    for word in words:\n",
        "        if word not in word_freq:\n",
        "            word_freq[word] = 1\n",
        "        else:\n",
        "            word_freq[word] += 1\n",
        "\n",
        "    # Score sentences based on word frequencies\n",
        "    sentence_scores = {}\n",
        "    for sentence in sentences:\n",
        "        score = 0\n",
        "        for word in sentence.lower().split():\n",
        "            if word in word_freq:\n",
        "                score += word_freq[word]\n",
        "        sentence_scores[sentence] = score\n",
        "\n",
        "    # Sort sentences by their scores\n",
        "    ranked_sentences = sorted(sentence_scores, key=sentence_scores.get, reverse=True)\n",
        "\n",
        "    # Pick top N sentences\n",
        "    summary = '. '.join(ranked_sentences[:num_sentences])\n",
        "    return summary\n",
        "\n",
        "# Example news article\n",
        "news_article = \"\"\"\n",
        "The government announced new policies to tackle the rising inflation rates that have affected the economy over the past year.\n",
        "The finance minister outlined a series of measures including tax cuts for small businesses, subsidies for essential goods, and\n",
        "a focus on boosting local manufacturing. Experts believe these moves could help stabilize prices but warn of possible budget deficits.\n",
        "Meanwhile, the stock market responded positively with major indices gaining ground after the announcement.\n",
        "\"\"\"\n",
        "\n",
        "# Generate summary\n",
        "summary = summarize(news_article, num_sentences=2)\n",
        "\n",
        "print(\"Summary:\")\n",
        "print(summary)"
      ]
    }
  ]
}